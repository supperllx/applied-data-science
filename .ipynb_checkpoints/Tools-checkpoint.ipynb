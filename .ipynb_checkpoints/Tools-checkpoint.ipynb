{
 "cells": [
  {
   "cell_type": "code",
   "execution_count": 1,
   "metadata": {},
   "outputs": [],
   "source": [
    "%matplotlib inline\n",
    "import numpy as np\n",
    "import pandas as pd\n",
    "import time\n",
    "import matplotlib.pyplot as plt\n",
    "\n",
    "from sklearn.decomposition import PCA\n",
    "from sklearn.svm import SVC"
   ]
  },
  {
   "cell_type": "markdown",
   "metadata": {},
   "source": [
    "# Linear Reg:"
   ]
  },
  {
   "cell_type": "markdown",
   "metadata": {},
   "source": [
    "basic:"
   ]
  },
  {
   "cell_type": "code",
   "execution_count": 2,
   "metadata": {},
   "outputs": [],
   "source": [
    "def my_least_squares(B, y): #input B like [[1,2],[2,3],[3,4]], y like [[1],[2],[3]]\n",
    "    start_time = time.time()\n",
    "    B = np.asmatrix(B)\n",
    "    A = np.insert(B, 0, 1, axis=1)\n",
    "    y = np.asmatrix(y)\n",
    "    #beta = np.dot(np.linalg.inv(np.dot(A.T, A)),A.T)\n",
    "    beta = (((A.T * A).I) * A.T)*y\n",
    "    #beta = np.dot(beta, y)\n",
    "    #print(A.shape, y.shape)\n",
    "    end_time = time.time()\n",
    "    print(\"Time usage in Linear reg: \", end_time-start_time)\n",
    "    return beta #beta will be like [[0.1],[0.4],[0.2]]"
   ]
  },
  {
   "cell_type": "markdown",
   "metadata": {},
   "source": [
    "gradient_descent:"
   ]
  },
  {
   "cell_type": "code",
   "execution_count": 3,
   "metadata": {},
   "outputs": [],
   "source": [
    "def my_gradient_descent(B, y): #input B like [[1,2],[2,3],[3,4]], y like [[1],[2],[3]]\n",
    "    start_time = time.time()\n",
    "    B = np.asmatrix(B)\n",
    "    A = np.insert(B, 0, 1, axis=1)\n",
    "    beta_size = A.shape[1]\n",
    "    y = np.asmatrix(y)\n",
    "    \n",
    "    beta = np.asmatrix(np.random.rand(beta_size, 1))\n",
    "    #print(beta)\n",
    "    alpha = 0.0001\n",
    "    K = 100000\n",
    "    for i in range(K):\n",
    "        beta = beta - alpha*((A.T * A)*beta - A.T*y)\n",
    "    end_time = time.time()\n",
    "    print(\"time usage in Gradient descent: \", end_time-start_time)\n",
    "    return beta #beta will be like [[0.1],[0.4],[0.2]]"
   ]
  },
  {
   "cell_type": "code",
   "execution_count": 4,
   "metadata": {},
   "outputs": [
    {
     "name": "stdout",
     "output_type": "stream",
     "text": [
      "Time usage in Linear reg:  0.03395652770996094\n",
      "[[1.0000000e+00]\n",
      " [2.0000000e+00]\n",
      " [8.8817842e-16]\n",
      " [1.0000000e+00]]\n",
      "time usage in Gradient descent:  2.3723690509796143\n",
      "[[0.96809351]\n",
      " [2.00019639]\n",
      " [0.02802518]\n",
      " [0.9937568 ]]\n"
     ]
    }
   ],
   "source": [
    "B = np.array([[1,2,3],[2,2,4],[1,1,1],[3,2,2],[2,1,2]])\n",
    "y = np.array([[7],[8],[3],[9],[8]])\n",
    "\n",
    "print(my_least_squares(B,y))\n",
    "print(my_gradient_descent(B,y))"
   ]
  },
  {
   "cell_type": "markdown",
   "metadata": {},
   "source": [
    "# SVM"
   ]
  },
  {
   "cell_type": "code",
   "execution_count": 5,
   "metadata": {},
   "outputs": [
    {
     "name": "stdout",
     "output_type": "stream",
     "text": [
      "[1 1 1 1 0 0 0]\n"
     ]
    },
    {
     "data": {
      "text/plain": [
       "SVC(C=10000000000.0, cache_size=200, class_weight=None, coef0=0.0,\n",
       "    decision_function_shape='ovr', degree=3, gamma='auto_deprecated',\n",
       "    kernel='linear', max_iter=-1, probability=False, random_state=None,\n",
       "    shrinking=True, tol=0.001, verbose=False)"
      ]
     },
     "execution_count": 5,
     "metadata": {},
     "output_type": "execute_result"
    },
    {
     "data": {
      "image/png": "[encoded data removed]",
      "text/plain": [
       "<Figure size 432x288 with 1 Axes>"
      ]
     },
     "metadata": {
      "needs_background": "light"
     },
     "output_type": "display_data"
    }
   ],
   "source": [
    "X = np.array([[3,4],[2,2],[4,4],[1,4],[2,1],[4,3],[4,1]])\n",
    "y = np.array([1,1,1,1,0,0,0])\n",
    "\n",
    "print(y)\n",
    "plt.scatter(X[:, 0], X[:, 1], c=y, s=50, cmap='autumn');\n",
    "\n",
    "model = SVC(kernel='linear', C=1E10)\n",
    "model.fit(X, y)"
   ]
  },
  {
   "cell_type": "code",
   "execution_count": 6,
   "metadata": {},
   "outputs": [],
   "source": [
    "def plot_svc_decision_function(model, ax=None, plot_support=True):\n",
    "    \"\"\"Plot the decision function for a 2D SVC\"\"\"\n",
    "    if ax is None:\n",
    "        ax = plt.gca()\n",
    "    xlim = ax.get_xlim()\n",
    "    ylim = ax.get_ylim()\n",
    "    \n",
    "    # create grid to evaluate model\n",
    "    x = np.linspace(xlim[0], xlim[1], 30)\n",
    "    y = np.linspace(ylim[0], ylim[1], 30)\n",
    "    Y, X = np.meshgrid(y, x)\n",
    "    xy = np.vstack([X.ravel(), Y.ravel()]).T\n",
    "    P = model.decision_function(xy).reshape(X.shape)\n",
    "    \n",
    "    # plot decision boundary and margins\n",
    "    ax.contour(X, Y, P, colors='k',\n",
    "               levels=[-1, 0, 1], alpha=0.5,\n",
    "               linestyles=['--', '-', '--'])\n",
    "    \n",
    "    # plot support vectors\n",
    "    if plot_support:\n",
    "        ax.scatter(model.support_vectors_[:, 0],\n",
    "                   model.support_vectors_[:, 1],\n",
    "                   s=300, linewidth=1, facecolors='none');\n",
    "    ax.set_xlim(xlim)\n",
    "    ax.set_ylim(ylim)"
   ]
  },
  {
   "cell_type": "code",
   "execution_count": 7,
   "metadata": {},
   "outputs": [
    {
     "name": "stdout",
     "output_type": "stream",
     "text": [
      "[[2. 1.]\n",
      " [4. 3.]\n",
      " [2. 2.]\n",
      " [4. 4.]]\n"
     ]
    },
    {
     "data": {
      "image/png": "[encoded data removed]",
      "text/plain": [
       "<Figure size 432x288 with 1 Axes>"
      ]
     },
     "metadata": {
      "needs_background": "light"
     },
     "output_type": "display_data"
    }
   ],
   "source": [
    "plt.scatter(X[:, 0], X[:, 1], c=y, s=50, cmap='autumn')\n",
    "plot_svc_decision_function(model);\n",
    "print(model.support_vectors_)"
   ]
  },
  {
   "cell_type": "markdown",
   "metadata": {},
   "source": [
    "# PCA"
   ]
  },
  {
   "cell_type": "code",
   "execution_count": 8,
   "metadata": {},
   "outputs": [
    {
     "data": {
      "image/png": "[encoded data removed]",
      "text/plain": [
       "<Figure size 432x288 with 1 Axes>"
      ]
     },
     "metadata": {
      "needs_background": "light"
     },
     "output_type": "display_data"
    }
   ],
   "source": [
    "X = np.array([[1,2,3],[1,2,-1],[-1,-3,-2],[-1,-1,0]])\n",
    "plt.scatter(X[:, 0], X[:, 1])\n",
    "plt.axis('equal');"
   ]
  },
  {
   "cell_type": "code",
   "execution_count": 9,
   "metadata": {},
   "outputs": [
    {
     "name": "stdout",
     "output_type": "stream",
     "text": [
      "[[-0.32852752  0.29814179]\n",
      " [-0.74768953  0.49766682]\n",
      " [-0.57708754 -0.81451777]]\n"
     ]
    }
   ],
   "source": [
    "pca = PCA(n_components=2)\n",
    "pca.fit(X)\n",
    "\n",
    "compt = (pca.components_).T\n",
    "print(compt)"
   ]
  },
  {
   "cell_type": "code",
   "execution_count": 10,
   "metadata": {},
   "outputs": [
    {
     "name": "stdout",
     "output_type": "stream",
     "text": [
      "[[-3.55516921 -1.15007787]\n",
      " [-1.24681904  2.10799322]\n",
      " [ 3.7257712  -0.16210672]\n",
      " [ 1.07621705 -0.79580862]]\n"
     ]
    }
   ],
   "source": [
    "ans = np.dot(X,compt)\n",
    "print(ans)"
   ]
  },
  {
   "cell_type": "code",
   "execution_count": null,
   "metadata": {},
   "outputs": [],
   "source": []
  }
 ],
 "metadata": {
  "kernelspec": {
   "display_name": "Python 3",
   "language": "python",
   "name": "python3"
  },
  "language_info": {
   "codemirror_mode": {
    "name": "ipython",
    "version": 3
   },
   "file_extension": ".py",
   "mimetype": "text/x-python",
   "name": "python",
   "nbconvert_exporter": "python",
   "pygments_lexer": "ipython3",
   "version": "3.7.4"
  }
 },
 "nbformat": 4,
 "nbformat_minor": 2
}
