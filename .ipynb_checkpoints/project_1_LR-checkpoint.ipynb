{
 "cells": [
  {
   "cell_type": "markdown",
   "metadata": {},
   "source": [
    "Team member: Lingxiao Li C10181946;\n",
    "             Yining Qiu  C20652427;\n",
    "             Wenyang Zheng C38269805;"
   ]
  },
  {
   "cell_type": "code",
   "execution_count": 1,
   "metadata": {},
   "outputs": [
    {
     "name": "stdout",
     "output_type": "stream",
     "text": [
      "Index(['STATION', 'STATION_NAME', 'PRCP', 'SNWD', 'SNOW', 'TMAX', 'TMIN',\n",
      "       'AWND', 'WDF2', 'WDF5', 'WSF2', 'WSF5', 'FMTM', 'WT14', 'WT01', 'WT17',\n",
      "       'WT05', 'WT02', 'WT22', 'WT04', 'WT13', 'WT16', 'WT08', 'WT18', 'WT03'],\n",
      "      dtype='object')\n"
     ]
    }
   ],
   "source": [
    "import pandas as pd\n",
    "counts = pd.read_csv('FremontBridge.csv', index_col='Date', parse_dates=True)\n",
    "weather = pd.read_csv('BicycleWeather.csv', index_col='DATE', parse_dates=True)\n",
    "print(weather.columns)"
   ]
  },
  {
   "cell_type": "code",
   "execution_count": 2,
   "metadata": {},
   "outputs": [
    {
     "name": "stdout",
     "output_type": "stream",
     "text": [
      "             Total\n",
      "Date              \n",
      "2012-10-03  3521.0\n",
      "2012-10-04  3475.0\n",
      "2012-10-05  3148.0\n",
      "2012-10-06  2006.0\n",
      "2012-10-07  2142.0\n",
      "             Total\n",
      "Date              \n",
      "2019-07-27  2366.0\n",
      "2019-07-28  3116.0\n",
      "2019-07-29  5859.0\n",
      "2019-07-30  5769.0\n",
      "2019-07-31  6154.0\n"
     ]
    }
   ],
   "source": [
    "daily = counts.resample('d').sum()\n",
    "daily['Total'] = daily.sum(axis=1)\n",
    "daily = daily[['Total']] \n",
    "print(daily.head())\n",
    "print(daily.tail())"
   ]
  },
  {
   "cell_type": "code",
   "execution_count": 3,
   "metadata": {},
   "outputs": [
    {
     "name": "stdout",
     "output_type": "stream",
     "text": [
      "             Total  Mon  Tue  Wed  Thu  Fri  Sat  Sun  holiday\n",
      "Date                                                          \n",
      "2012-10-03  3521.0  0.0  0.0  1.0  0.0  0.0  0.0  0.0      0.0\n",
      "2012-10-04  3475.0  0.0  0.0  0.0  1.0  0.0  0.0  0.0      0.0\n",
      "2012-10-05  3148.0  0.0  0.0  0.0  0.0  1.0  0.0  0.0      0.0\n",
      "2012-10-06  2006.0  0.0  0.0  0.0  0.0  0.0  1.0  0.0      0.0\n",
      "2012-10-07  2142.0  0.0  0.0  0.0  0.0  0.0  0.0  1.0      0.0\n",
      "2012-10-08  3537.0  0.0  0.0  0.0  0.0  0.0  0.0  0.0      1.0\n",
      "2012-10-09  3501.0  0.0  1.0  0.0  0.0  0.0  0.0  0.0      0.0\n"
     ]
    }
   ],
   "source": [
    "days = ['Mon', 'Tue', 'Wed', 'Thu', 'Fri', 'Sat', 'Sun']\n",
    "for i in range(7):\n",
    "    daily[days[i]] = (daily.index.dayofweek == i).astype(float)\n",
    "    \n",
    "from pandas.tseries.holiday import USFederalHolidayCalendar\n",
    "cal = USFederalHolidayCalendar()\n",
    "holidays = cal.holidays('2012', '2016')\n",
    "daily = daily.join(pd.Series(1, index=holidays, name='holiday'))\n",
    "daily['holiday'].fillna(0, inplace=True)\n",
    "\n",
    "# Make holiday and Mon, Thu ... Sun disjoint with each other\n",
    "for i in ['Mon', 'Tue', 'Wed', 'Thu', 'Fri', 'Sat', 'Sun']:\n",
    "    daily[i].loc[daily.holiday == 1] = 0\n",
    "\n",
    "print(daily.head(7))"
   ]
  },
  {
   "cell_type": "code",
   "execution_count": 4,
   "metadata": {},
   "outputs": [],
   "source": [
    "import numpy as np\n",
    "def hours_of_daylight(date, axis=23.44, latitude=47.61):\n",
    "    \"\"\"Compute the hours of daylight for the given date\"\"\"\n",
    "    days = (date - pd.datetime(2000, 12, 21)).days\n",
    "    m = (1. - np.tan(np.radians(latitude))\n",
    "         * np.tan(np.radians(axis) * np.cos(days * 2 * np.pi / 365.25)))\n",
    "    return 24. * np.degrees(np.arccos(1 - np.clip(m, 0, 2))) / 180.\n",
    "\n",
    "daily['daylight_hrs'] = list(map(hours_of_daylight, daily.index))"
   ]
  },
  {
   "cell_type": "code",
   "execution_count": 5,
   "metadata": {},
   "outputs": [],
   "source": [
    "# Use TMIN and TMAX instead of average temperature\n",
    "weather['TMIN'] /= 10\n",
    "weather['TMAX'] /= 10\n",
    "\n",
    "# Add no-linear effects of TMIN and TMAX\n",
    "weather['TMIN2'] = weather['TMIN'] ** 2\n",
    "weather['TMIN3'] = weather['TMIN'] ** 3\n",
    "weather['TMAX2'] = weather['TMAX'] **2\n",
    "weather['TMAX3'] = weather['TMAX'] **3\n",
    "weather['Temp (C)'] = 0.5 * (weather['TMIN'] + weather['TMAX'])\n",
    "\n",
    "weather['PRCP'] /= 254\n",
    "\n",
    "weather['dry day'] = (weather['PRCP'] == 0).astype(int)\n",
    "\n",
    "# Add variable wet day \n",
    "weather['wet day'] = (weather['PRCP'] >= 0.37).astype(int)\n",
    "\n",
    "daily = daily.join(weather[['PRCP', 'TMIN', 'TMIN2', 'TMIN3', 'TMAX', 'TMAX2', 'TMAX3', 'dry day', 'wet day']])"
   ]
  },
  {
   "cell_type": "code",
   "execution_count": 6,
   "metadata": {},
   "outputs": [],
   "source": [
    "daily['annual'] = (daily.index - daily.index[0]).days / 365"
   ]
  },
  {
   "cell_type": "code",
   "execution_count": 7,
   "metadata": {},
   "outputs": [
    {
     "name": "stdout",
     "output_type": "stream",
     "text": [
      "<class 'pandas.core.frame.DataFrame'>\n",
      "DatetimeIndex: 2493 entries, 2012-10-03 to 2019-07-31\n",
      "Freq: D\n",
      "Data columns (total 20 columns):\n",
      "Total           2493 non-null float64\n",
      "Mon             2493 non-null float64\n",
      "Tue             2493 non-null float64\n",
      "Wed             2493 non-null float64\n",
      "Thu             2493 non-null float64\n",
      "Fri             2493 non-null float64\n",
      "Sat             2493 non-null float64\n",
      "Sun             2493 non-null float64\n",
      "holiday         2493 non-null float64\n",
      "daylight_hrs    2493 non-null float64\n",
      "PRCP            1064 non-null float64\n",
      "TMIN            1064 non-null float64\n",
      "TMIN2           1064 non-null float64\n",
      "TMIN3           1064 non-null float64\n",
      "TMAX            1064 non-null float64\n",
      "TMAX2           1064 non-null float64\n",
      "TMAX3           1064 non-null float64\n",
      "dry day         1064 non-null float64\n",
      "wet day         1064 non-null float64\n",
      "annual          2493 non-null float64\n",
      "dtypes: float64(20)\n",
      "memory usage: 409.0 KB\n"
     ]
    }
   ],
   "source": [
    "daily.head()\n",
    "daily.info()"
   ]
  },
  {
   "cell_type": "code",
   "execution_count": 8,
   "metadata": {},
   "outputs": [],
   "source": [
    "from sklearn.linear_model import LinearRegression\n",
    "model = LinearRegression(fit_intercept=True)\n",
    "daily.dropna(axis=0, how='any', inplace=True)\n",
    "\n",
    "column_names = ['Mon', 'Tue', 'Wed', 'Thu', 'Fri', 'Sat', 'Sun', 'holiday',\n",
    "                'daylight_hrs', 'PRCP', 'TMIN', 'TMIN2', 'TMAX', 'TMAX2', 'TMAX3', 'dry day', 'wet day', 'annual']\n",
    "X = daily[column_names]\n",
    "y = daily['Total']\n",
    "\n",
    "model = LinearRegression(fit_intercept=False)\n",
    "model.fit(X, y)\n",
    "daily['predicted'] = model.predict(X)"
   ]
  },
  {
   "cell_type": "code",
   "execution_count": 9,
   "metadata": {},
   "outputs": [
    {
     "data": {
      "text/plain": [
       "<matplotlib.axes._subplots.AxesSubplot at 0x2cfcbfcdc50>"
      ]
     },
     "execution_count": 9,
     "metadata": {},
     "output_type": "execute_result"
    },
    {
     "data": {
      "image/png": "[encoded data removed]",
      "text/plain": [
       "<Figure size 432x288 with 1 Axes>"
      ]
     },
     "metadata": {
      "needs_background": "light"
     },
     "output_type": "display_data"
    }
   ],
   "source": [
    "%matplotlib inline\n",
    "import matplotlib.pyplot as plt\n",
    "daily[['Total', 'predicted']].plot(alpha=0.5)"
   ]
  },
  {
   "cell_type": "code",
   "execution_count": 10,
   "metadata": {},
   "outputs": [
    {
     "name": "stdout",
     "output_type": "stream",
     "text": [
      "              effect  error\n",
      "Mon           1052.0  152.0\n",
      "Tue           1211.0  153.0\n",
      "Wed           1198.0  153.0\n",
      "Thu           1090.0  149.0\n",
      "Fri            781.0  148.0\n",
      "Sat           -502.0  148.0\n",
      "Sun           -550.0  149.0\n",
      "holiday        -45.0  183.0\n",
      "daylight_hrs    93.0    9.0\n",
      "PRCP          -445.0   98.0\n",
      "TMIN            31.0   11.0\n",
      "TMIN2           -5.0    1.0\n",
      "TMAX           -71.0   27.0\n",
      "TMAX2           11.0    2.0\n",
      "TMAX3           -0.0    0.0\n",
      "dry day        390.0   33.0\n",
      "wet day       -173.0   73.0\n",
      "annual          26.0   15.0\n"
     ]
    }
   ],
   "source": [
    "params = pd.Series(model.coef_, index=X.columns)\n",
    "params\n",
    "\n",
    "from sklearn.utils import resample\n",
    "np.random.seed(1)\n",
    "err = np.std([model.fit(*resample(X, y)).coef_\n",
    "              for i in range(1000)], 0)\n",
    "\n",
    "print(pd.DataFrame({'effect': params.round(0),\n",
    "                    'error': err.round(0)}))"
   ]
  },
  {
   "cell_type": "code",
   "execution_count": 11,
   "metadata": {},
   "outputs": [
    {
     "name": "stdout",
     "output_type": "stream",
     "text": [
      "-22.269351564882687 %\n"
     ]
    }
   ],
   "source": [
    "from sklearn.metrics import mean_squared_error\n",
    "mean_squared_error(daily.Total, daily.predicted)\n",
    "print((mean_squared_error(daily.Total, daily.predicted)-207632.10066298803)/207632.10066298803*100, '%')"
   ]
  },
  {
   "cell_type": "markdown",
   "metadata": {},
   "source": [
    "1. Divide days into Mon, Tue, Wed, Thu, Fri, Sat, Sun, holiday, and let these eight sets be disjoint.\n",
    "2. Replace average temperature with minimum temperature and maximum temperature.\n",
    "3. Add nonlinear effects of minimum temperature and maximum temperature (TMIN^2, TMAX^2, TMAX^3).\n",
    "4. Assume rider number has linear relationship with precipitation, and when the weather is too dry or too wet, there is a distortion with this linear relationship, so add the variable too wet. In the process of choosing too wet, we need to try a lot of segmentations to find the best one.\n",
    "\n",
    "In conclusion, this model can be improved by 22.27%."
   ]
  }
 ],
 "metadata": {
  "kernelspec": {
   "display_name": "Python 3",
   "language": "python",
   "name": "python3"
  },
  "language_info": {
   "codemirror_mode": {
    "name": "ipython",
    "version": 3
   },
   "file_extension": ".py",
   "mimetype": "text/x-python",
   "name": "python",
   "nbconvert_exporter": "python",
   "pygments_lexer": "ipython3",
   "version": "3.7.3"
  }
 },
 "nbformat": 4,
 "nbformat_minor": 2
}
