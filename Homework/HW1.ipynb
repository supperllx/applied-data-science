{
 "cells": [
  {
   "cell_type": "code",
   "execution_count": 9,
   "metadata": {},
   "outputs": [],
   "source": [
    "import numpy as np\n",
    "import pandas as pd\n",
    "import time"
   ]
  },
  {
   "cell_type": "markdown",
   "metadata": {},
   "source": [
    "Question 1: Write a function for Multiple Linear Regression. "
   ]
  },
  {
   "cell_type": "code",
   "execution_count": 10,
   "metadata": {},
   "outputs": [],
   "source": [
    "def Multi_L_reg(A, y):\n",
    "    start_time = time.time()\n",
    "    A = np.asmatrix(A)\n",
    "    A = np.insert(A, 0, 1, axis=1)\n",
    "    y = np.asmatrix(y).T\n",
    "    #beta = np.dot(np.linalg.inv(np.dot(A.T, A)),A.T)\n",
    "    beta = ((A.T * A).I) * A.T\n",
    "    beta = np.dot(beta, y)\n",
    "    #print(A.shape, y.shape)\n",
    "    end_time = time.time()\n",
    "    print(\"time usage in Linear reg: \", end_time-start_time)\n",
    "    return beta"
   ]
  },
  {
   "cell_type": "markdown",
   "metadata": {},
   "source": [
    "This is the Linear regression method"
   ]
  },
  {
   "cell_type": "code",
   "execution_count": 11,
   "metadata": {},
   "outputs": [
    {
     "name": "stdout",
     "output_type": "stream",
     "text": [
      "time usage in Linear reg:  0.0009982585906982422\n",
      "[[  22.25]\n",
      " [  27.  ]\n",
      " [   0.75]\n",
      " [-106.  ]\n",
      " [  18.5 ]]\n"
     ]
    }
   ],
   "source": [
    "a =np.array([[1,2,1,3],[2,2,1,2],[3,4,1,2],[7,8,3,9]])\n",
    "y=np.array([2,1,2,8])\n",
    "\n",
    "res = Multi_L_reg(a,y)\n",
    "print(res)"
   ]
  },
  {
   "cell_type": "code",
   "execution_count": 12,
   "metadata": {},
   "outputs": [
    {
     "name": "stdout",
     "output_type": "stream",
     "text": [
      "3\n",
      "[[0.57591505]\n",
      " [0.63411718]\n",
      " [0.30985924]]\n"
     ]
    }
   ],
   "source": [
    "a = np.mat([[1,2,5],[3,4,6]])\n",
    "\n",
    "print(a.shape[1])\n",
    "\n",
    "b = np.asmatrix(np.random.rand(a.shape[1],1))\n",
    "\n",
    "print(b)"
   ]
  },
  {
   "cell_type": "markdown",
   "metadata": {},
   "source": [
    "Question 2: Write a gradient based method to optimzie the solution and compare the time consumption between the two methods with different scales of input. "
   ]
  },
  {
   "cell_type": "code",
   "execution_count": 13,
   "metadata": {},
   "outputs": [],
   "source": [
    "def Gradient_descent(A, y):\n",
    "    start_time = time.time()\n",
    "    A = np.asmatrix(A)\n",
    "    A = np.insert(A, 0, 1, axis=1)\n",
    "    beta_size = A.shape[1]\n",
    "    y = np.asmatrix(y).T\n",
    "    \n",
    "    beta = np.asmatrix(np.random.rand(beta_size, 1))\n",
    "    #print(beta)\n",
    "    alpha = 0.01\n",
    "    K = 10000\n",
    "    for i in range(K):\n",
    "        beta = beta - alpha*((A.T * A)*beta - A.T*y)\n",
    "    end_time = time.time()\n",
    "    print(\"time usage in Gradient descent: \", end_time-start_time)\n",
    "    return beta"
   ]
  },
  {
   "cell_type": "code",
   "execution_count": 14,
   "metadata": {
    "scrolled": true
   },
   "outputs": [
    {
     "name": "stdout",
     "output_type": "stream",
     "text": [
      "time usage in Gradient descent:  0.3435664176940918\n",
      "[[8.4293581e-15]\n",
      " [2.0000000e+00]]\n"
     ]
    }
   ],
   "source": [
    "a =np.array([[1],[2],[3],[4]])\n",
    "y=np.array([2,4,6,8])\n",
    "\n",
    "res = Gradient_descent(a,y)\n",
    "print(res)"
   ]
  },
  {
   "cell_type": "code",
   "execution_count": 15,
   "metadata": {},
   "outputs": [
    {
     "name": "stdout",
     "output_type": "stream",
     "text": [
      "time usage in Gradient descent:  0.25478172302246094\n",
      "time usage in timer_func:  0.25478172302246094\n"
     ]
    }
   ],
   "source": [
    "def timer_func(input_func, args):\n",
    "    start_time = time.time()\n",
    "    input_func(args[0], args[1])\n",
    "    end_time = time.time()\n",
    "    return end_time-start_time\n",
    "\n",
    "print(\"time usage in timer_func: \", timer_func(Gradient_descent, [a,y]))"
   ]
  },
  {
   "cell_type": "code",
   "execution_count": null,
   "metadata": {},
   "outputs": [],
   "source": []
  }
 ],
 "metadata": {
  "kernelspec": {
   "display_name": "Python 3",
   "language": "python",
   "name": "python3"
  },
  "language_info": {
   "codemirror_mode": {
    "name": "ipython",
    "version": 3
   },
   "file_extension": ".py",
   "mimetype": "text/x-python",
   "name": "python",
   "nbconvert_exporter": "python",
   "pygments_lexer": "ipython3",
   "version": "3.7.3"
  }
 },
 "nbformat": 4,
 "nbformat_minor": 2
}
