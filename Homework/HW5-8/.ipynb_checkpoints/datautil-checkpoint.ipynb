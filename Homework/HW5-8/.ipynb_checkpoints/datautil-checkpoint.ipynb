{
 "cells": [
  {
   "cell_type": "code",
   "execution_count": null,
   "metadata": {},
   "outputs": [],
   "source": [
    "%%writefile datautil.py\n",
    "import os\n",
    "import urllib3\n",
    "import zipfile\n",
    "import requests\n",
    "import pandas as pd\n",
    "\n",
    "urllib3.disable_warnings()\n",
    "def download_data(url, file_path):\n",
    "    r = requests.get(url, verify=False)\n",
    "    with open(file_path, \"wb\") as f:\n",
    "        f.write(r.content)\n",
    "\n",
    "def unzip_data(zip_file, out_path):\n",
    "    zf = zipfile.ZipFile(zip_file, \"r\")\n",
    "    if not os.path.exists(out_path):\n",
    "        os.mkdir(out_path)\n",
    "    for fn in zf.namelist():\n",
    "        fp = out_path + \"/\" + fn.replace(\"/\", \"-\")\n",
    "        data = zf.read(fn)\n",
    "        with open(fp, \"wb\") as f:\n",
    "            f.write(data)\n",
    "            \n",
    "def extract_data(datafile, out_path):\n",
    "    if datafile.endswith(\".zip\"):\n",
    "        unzip_data(datafile, out_path)\n",
    "    else:\n",
    "        raise NotImplementedError(\".{} is not currently supportted\".format(datafile.split(\".\")[-1]))\n",
    "    \n",
    "data_url = \"https://www.palmetto.clemson.edu/dsci/dataset/housing/california-housing-prices.zip\"\n",
    "local_data_dir = os.path.join(os.getcwd(), \"datasets\")\n",
    "if not os.path.exists(local_data_dir):\n",
    "    os.mkdir(local_data_dir)\n",
    "local_compressed_datafile = os.path.join(local_data_dir, 'california-housing-prices.zip')\n",
    "local_cached_datafile = os.path.join(local_data_dir, 'housing.csv')\n",
    "\n",
    "def load_housing_data(data_file=os.path.join(local_data_dir, 'housing.csv')):\n",
    "    if not os.path.exists(local_cached_datafile):\n",
    "        if not os.path.exists(local_compressed_datafile):\n",
    "            download_data(data_url, local_compressed_datafile)\n",
    "        extract_data(local_compressed_datafile, local_data_dir)\n",
    "    return pd.read_csv(local_cached_datafile)"
   ]
  },
  {
   "cell_type": "code",
   "execution_count": null,
   "metadata": {},
   "outputs": [],
   "source": []
  }
 ],
 "metadata": {
  "kernelspec": {
   "display_name": "Python 3",
   "language": "python",
   "name": "python3"
  },
  "language_info": {
   "codemirror_mode": {
    "name": "ipython",
    "version": 3
   },
   "file_extension": ".py",
   "mimetype": "text/x-python",
   "name": "python",
   "nbconvert_exporter": "python",
   "pygments_lexer": "ipython3",
   "version": "3.7.5"
  }
 },
 "nbformat": 4,
 "nbformat_minor": 2
}
