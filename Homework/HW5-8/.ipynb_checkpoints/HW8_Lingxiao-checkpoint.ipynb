{
 "cells": [
  {
   "cell_type": "markdown",
   "metadata": {},
   "source": [
    "# Lingxiao Li C10181946"
   ]
  },
  {
   "cell_type": "markdown",
   "metadata": {},
   "source": [
    "# CPSC6300-001 Applied Data Science - HW8¶\n",
    "\n"
   ]
  },
  {
   "cell_type": "markdown",
   "metadata": {},
   "source": [
    "# Part D. Basic Model Training (50 points)"
   ]
  },
  {
   "cell_type": "code",
   "execution_count": 12,
   "metadata": {},
   "outputs": [],
   "source": [
    "from IPython.core.interactiveshell import InteractiveShell\n",
    "InteractiveShell.ast_node_interactivity = \"all\"\n",
    "%matplotlib inline"
   ]
  },
  {
   "cell_type": "markdown",
   "metadata": {},
   "source": [
    "## 1. Load the train and test dataset (5 points)\n",
    "\n",
    "In Part C, you have save the test set and train set into two csv files. In this spart, you use the prepared data to train some models. Complete the following code to load the train data into X_train and y_train and the test data into X_test and y_test. Here X_xxx is a feature matrix and y_xxx will is a label vector."
   ]
  },
  {
   "cell_type": "code",
   "execution_count": 13,
   "metadata": {
    "nbgrader": {
     "grade": true,
     "grade_id": "cell-0e64ae641c5330da",
     "locked": false,
     "points": 5,
     "schema_version": 3,
     "solution": true,
     "task": false
    }
   },
   "outputs": [
    {
     "data": {
      "text/plain": [
       "0        171700.0\n",
       "1        109000.0\n",
       "2        237500.0\n",
       "3         91200.0\n",
       "4        500001.0\n",
       "           ...   \n",
       "13823    223800.0\n",
       "13824     90500.0\n",
       "13825    232000.0\n",
       "13826    330000.0\n",
       "13827    240200.0\n",
       "Name: labels, Length: 13828, dtype: float64"
      ]
     },
     "execution_count": 13,
     "metadata": {},
     "output_type": "execute_result"
    }
   ],
   "source": [
    "import numpy as np\n",
    "import pandas as pd\n",
    "### BEGIN SOLUTION\n",
    "df_train = pd.read_csv(\"housing_train.csv\")\n",
    "X_train = df_train.iloc[:,0:16]\n",
    "Y_train = df_train.iloc[:,16]\n",
    "\n",
    "df_test = pd.read_csv('housing_test.csv')\n",
    "X_test = df_test.iloc[:,0:16]\n",
    "Y_test = df_test.iloc[:,16]\n",
    "Y_train\n",
    "### END SOLUTION"
   ]
  },
  {
   "cell_type": "markdown",
   "metadata": {},
   "source": [
    "We use the following data struct to keep the model performance results."
   ]
  },
  {
   "cell_type": "code",
   "execution_count": 14,
   "metadata": {},
   "outputs": [],
   "source": [
    "models = [\"LinearRegression\", \n",
    "          \"DecisionTree\", \n",
    "          \"RandomForest-Default\", \n",
    "          \"RandomForest-Custom\",\n",
    "          \"SupportVectorMachine\"\n",
    "         ]\n",
    "train_rmses = {}\n",
    "test_rmses = {}\n"
   ]
  },
  {
   "cell_type": "markdown",
   "metadata": {},
   "source": [
    "## 2. Train a Linear Regression Model (10 points)"
   ]
  },
  {
   "cell_type": "markdown",
   "metadata": {},
   "source": [
    "a. Write some code to train a linear regression model, save your model to a variable __model__. (4 points)"
   ]
  },
  {
   "cell_type": "code",
   "execution_count": 15,
   "metadata": {
    "nbgrader": {
     "grade": true,
     "grade_id": "cell-d59f485915e74b09",
     "locked": false,
     "points": 4,
     "schema_version": 3,
     "solution": true,
     "task": false
    }
   },
   "outputs": [
    {
     "data": {
      "text/plain": [
       "LinearRegression(copy_X=True, fit_intercept=True, n_jobs=None, normalize=False)"
      ]
     },
     "execution_count": 15,
     "metadata": {},
     "output_type": "execute_result"
    },
    {
     "data": {
      "text/plain": [
       "(243897.50745895779,\n",
       " array([-56371.33113438, -58068.46504797,  13400.08490732,   6762.73812251,\n",
       "          -826.09942839, -51206.04218437,  50766.45590615,  76589.98965238,\n",
       "          6935.08469466,   1855.34871858,  14221.86865678, -26196.53767587,\n",
       "        -60278.77275928, 140136.95575279, -31101.77710863, -22559.86820901]))"
      ]
     },
     "execution_count": 15,
     "metadata": {},
     "output_type": "execute_result"
    }
   ],
   "source": [
    "### BEGIN SOLUTION\n",
    "from sklearn.linear_model import LinearRegression\n",
    "\n",
    "line_reg = LinearRegression()\n",
    "model = line_reg.fit(X_train, Y_train)\n",
    "model\n",
    "### END SOLUTION\n",
    "model.intercept_, model.coef_"
   ]
  },
  {
   "cell_type": "markdown",
   "metadata": {
    "nbgrader": {
     "grade": true,
     "grade_id": "cell-f2234aa6772a8207",
     "locked": false,
     "points": 4,
     "schema_version": 3,
     "solution": true,
     "task": false
    }
   },
   "source": [
    "b. Write some code to compute the __RMSE__ measure for the training data. You may try the __mean_squared_error__ method in the __sklearn.metrics__ library. (4 points)"
   ]
  },
  {
   "cell_type": "code",
   "execution_count": 16,
   "metadata": {},
   "outputs": [
    {
     "data": {
      "text/plain": [
       "67844.51399949237"
      ]
     },
     "execution_count": 16,
     "metadata": {},
     "output_type": "execute_result"
    }
   ],
   "source": [
    "### BEGIN SOLUTION\n",
    "from sklearn.metrics import mean_squared_error\n",
    "\n",
    "train_prediction = line_reg.predict(X_train)\n",
    "train_rmse = np.sqrt(mean_squared_error(Y_train, train_prediction))\n",
    "### END SOLUTION\n",
    "train_rmse\n",
    "train_rmses[\"LinearRegression\"] = train_rmse"
   ]
  },
  {
   "cell_type": "markdown",
   "metadata": {},
   "source": [
    "c. Write some code to compute the __RMSE__ measure for the test data. (2 points)"
   ]
  },
  {
   "cell_type": "code",
   "execution_count": 17,
   "metadata": {
    "nbgrader": {
     "grade": true,
     "grade_id": "cell-9dc7cb07a896e61a",
     "locked": false,
     "points": 2,
     "schema_version": 3,
     "solution": true,
     "task": false
    }
   },
   "outputs": [
    {
     "data": {
      "text/plain": [
       "69421.56146006071"
      ]
     },
     "execution_count": 17,
     "metadata": {},
     "output_type": "execute_result"
    }
   ],
   "source": [
    "### BEGIN SOLUTION\n",
    "test_prediction = line_reg.predict(X_test)\n",
    "test_rmse = np.sqrt(mean_squared_error(Y_test, test_prediction))\n",
    "### END SOLUTION\n",
    "test_rmse\n",
    "test_rmses[\"LinearRegression\"] = test_rmse"
   ]
  },
  {
   "cell_type": "markdown",
   "metadata": {},
   "source": [
    "## 3. Train a DecisionTreeRegressor Model (5 points)"
   ]
  },
  {
   "cell_type": "markdown",
   "metadata": {},
   "source": [
    "Write some code to train a DecisionTreeRegressor model. Then apply your model to compute the __RSME__ for both training data and test data. (5 points)"
   ]
  },
  {
   "cell_type": "code",
   "execution_count": 18,
   "metadata": {
    "nbgrader": {
     "grade": true,
     "grade_id": "cell-bc7ced34c00985e9",
     "locked": false,
     "points": 5,
     "schema_version": 3,
     "solution": true,
     "task": false
    }
   },
   "outputs": [
    {
     "data": {
      "text/plain": [
       "DecisionTreeRegressor(criterion='mse', max_depth=None, max_features=None,\n",
       "                      max_leaf_nodes=None, min_impurity_decrease=0.0,\n",
       "                      min_impurity_split=None, min_samples_leaf=1,\n",
       "                      min_samples_split=2, min_weight_fraction_leaf=0.0,\n",
       "                      presort=False, random_state=None, splitter='best')"
      ]
     },
     "execution_count": 18,
     "metadata": {},
     "output_type": "execute_result"
    },
    {
     "data": {
      "text/plain": [
       "0.0"
      ]
     },
     "execution_count": 18,
     "metadata": {},
     "output_type": "execute_result"
    },
    {
     "data": {
      "text/plain": [
       "106494.82741179634"
      ]
     },
     "execution_count": 18,
     "metadata": {},
     "output_type": "execute_result"
    }
   ],
   "source": [
    "### BEGIN SOLUTION\n",
    "from sklearn.tree import DecisionTreeRegressor\n",
    "dtr = DecisionTreeRegressor()\n",
    "dtr_model = dtr.fit(X_train, Y_train)\n",
    "dtr_model\n",
    "train_prediction = dtr_model.predict(X_train)\n",
    "test_prediction = dtr_model.predict(X_test)\n",
    "\n",
    "train_rmse = np.sqrt(mean_squared_error(Y_train, train_prediction))\n",
    "test_rmse = np.sqrt(mean_squared_error(Y_test, test_prediction))\n",
    "train_rmse\n",
    "test_rmse\n",
    "### END SOLUTION\n",
    "train_rmses[\"DecisionTree\"], test_rmses[\"DecisionTree\"] = train_rmse, test_rmse"
   ]
  },
  {
   "cell_type": "markdown",
   "metadata": {},
   "source": [
    "## 4. Train a RandomForestRegressor Model (10 points)"
   ]
  },
  {
   "cell_type": "markdown",
   "metadata": {},
   "source": [
    "a. Write some code to train a Random Forest Regressor Regressor (__RandomForestRegressor__ in sklearn.ensemble). Then apply your model to compute the __RSME__ for both training data and test data. (5 points)"
   ]
  },
  {
   "cell_type": "code",
   "execution_count": 19,
   "metadata": {
    "nbgrader": {
     "grade": true,
     "grade_id": "cell-b1d49ea6f9c123cc",
     "locked": false,
     "points": 5,
     "schema_version": 3,
     "solution": true,
     "task": false
    }
   },
   "outputs": [
    {
     "name": "stderr",
     "output_type": "stream",
     "text": [
      "C:\\ProgramData\\Anaconda3\\lib\\site-packages\\sklearn\\ensemble\\forest.py:245: FutureWarning: The default value of n_estimators will change from 10 in version 0.20 to 100 in 0.22.\n",
      "  \"10 in version 0.20 to 100 in 0.22.\", FutureWarning)\n"
     ]
    },
    {
     "data": {
      "text/plain": [
       "RandomForestRegressor(bootstrap=True, criterion='mse', max_depth=None,\n",
       "                      max_features='auto', max_leaf_nodes=None,\n",
       "                      min_impurity_decrease=0.0, min_impurity_split=None,\n",
       "                      min_samples_leaf=1, min_samples_split=2,\n",
       "                      min_weight_fraction_leaf=0.0, n_estimators=10,\n",
       "                      n_jobs=None, oob_score=False, random_state=None,\n",
       "                      verbose=0, warm_start=False)"
      ]
     },
     "execution_count": 19,
     "metadata": {},
     "output_type": "execute_result"
    },
    {
     "data": {
      "text/plain": [
       "22301.58230552678"
      ]
     },
     "execution_count": 19,
     "metadata": {},
     "output_type": "execute_result"
    },
    {
     "data": {
      "text/plain": [
       "78086.82996485179"
      ]
     },
     "execution_count": 19,
     "metadata": {},
     "output_type": "execute_result"
    }
   ],
   "source": [
    "### BEGIN SOLUTION\n",
    "from sklearn.ensemble import RandomForestRegressor\n",
    "rfr_reg = RandomForestRegressor()\n",
    "rfr_model = rfr_reg.fit(X_train, Y_train)\n",
    "rfr_model\n",
    "\n",
    "train_prediction = rfr_model.predict(X_train)\n",
    "test_prediction = rfr_model.predict(X_test)\n",
    "\n",
    "train_rmse = np.sqrt(mean_squared_error(Y_train, train_prediction))\n",
    "test_rmse = np.sqrt(mean_squared_error(Y_test, test_prediction))\n",
    "train_rmse\n",
    "test_rmse\n",
    "\n",
    "### END SOLUTION\n",
    "train_rmses[\"RandomForest-Default\"], test_rmses[\"RandomForest-Default\"] = train_rmse, test_rmse"
   ]
  },
  {
   "cell_type": "markdown",
   "metadata": {},
   "source": [
    "b. Repeat step a but now use the following hyperparameters for the RandomForestRegressor model.\n",
    "```\n",
    "max_features=8\n",
    "n_estimates=100\n",
    "```\n",
    "(5 points)"
   ]
  },
  {
   "cell_type": "code",
   "execution_count": 20,
   "metadata": {
    "nbgrader": {
     "grade": true,
     "grade_id": "cell-bf00e69faff2346a",
     "locked": false,
     "points": 5,
     "schema_version": 3,
     "solution": true,
     "task": false
    }
   },
   "outputs": [
    {
     "data": {
      "text/plain": [
       "RandomForestRegressor(bootstrap=True, criterion='mse', max_depth=None,\n",
       "                      max_features=8, max_leaf_nodes=None,\n",
       "                      min_impurity_decrease=0.0, min_impurity_split=None,\n",
       "                      min_samples_leaf=1, min_samples_split=2,\n",
       "                      min_weight_fraction_leaf=0.0, n_estimators=100,\n",
       "                      n_jobs=None, oob_score=False, random_state=None,\n",
       "                      verbose=0, warm_start=False)"
      ]
     },
     "execution_count": 20,
     "metadata": {},
     "output_type": "execute_result"
    },
    {
     "data": {
      "text/plain": [
       "18636.160499885773"
      ]
     },
     "execution_count": 20,
     "metadata": {},
     "output_type": "execute_result"
    },
    {
     "data": {
      "text/plain": [
       "66652.87637608341"
      ]
     },
     "execution_count": 20,
     "metadata": {},
     "output_type": "execute_result"
    }
   ],
   "source": [
    "### BEGIN SOLUTION\n",
    "from sklearn.ensemble import RandomForestRegressor\n",
    "rfr_reg = RandomForestRegressor(max_features=8, n_estimators=100)\n",
    "rfr_model = rfr_reg.fit(X_train, Y_train)\n",
    "rfr_model\n",
    "\n",
    "train_prediction = rfr_model.predict(X_train)\n",
    "test_prediction = rfr_model.predict(X_test)\n",
    "\n",
    "train_rmse = np.sqrt(mean_squared_error(Y_train, train_prediction))\n",
    "test_rmse = np.sqrt(mean_squared_error(Y_test, test_prediction))\n",
    "train_rmse\n",
    "test_rmse\n",
    "\n",
    "### END SOLUTION\n",
    "train_rmses[\"RandomForest-Custom\"], test_rmses[\"RandomForest-Custom\"] = train_rmse, test_rmse"
   ]
  },
  {
   "cell_type": "markdown",
   "metadata": {},
   "source": [
    "## 5. Train a Support Vector Machine Regressor (5 points)\n",
    "\n",
    "Write some code to train a Support Vector Machine Regressor (__SVR__ in sklearn.svm). Then apply your model to compute the  __RSME__ for both training data and test data. (5 points)"
   ]
  },
  {
   "cell_type": "code",
   "execution_count": 21,
   "metadata": {
    "nbgrader": {
     "grade": true,
     "grade_id": "cell-2d65f1f161eeca1c",
     "locked": false,
     "points": 5,
     "schema_version": 3,
     "solution": true,
     "task": false
    }
   },
   "outputs": [
    {
     "name": "stderr",
     "output_type": "stream",
     "text": [
      "C:\\ProgramData\\Anaconda3\\lib\\site-packages\\sklearn\\svm\\base.py:193: FutureWarning: The default value of gamma will change from 'auto' to 'scale' in version 0.22 to account better for unscaled features. Set gamma explicitly to 'auto' or 'scale' to avoid this warning.\n",
      "  \"avoid this warning.\", FutureWarning)\n"
     ]
    },
    {
     "data": {
      "text/plain": [
       "SVR(C=1.0, cache_size=200, coef0=0.0, degree=3, epsilon=0.1,\n",
       "    gamma='auto_deprecated', kernel='rbf', max_iter=-1, shrinking=True,\n",
       "    tol=0.001, verbose=False)"
      ]
     },
     "execution_count": 21,
     "metadata": {},
     "output_type": "execute_result"
    },
    {
     "data": {
      "text/plain": [
       "118194.2140996334"
      ]
     },
     "execution_count": 21,
     "metadata": {},
     "output_type": "execute_result"
    },
    {
     "data": {
      "text/plain": [
       "118382.11853050445"
      ]
     },
     "execution_count": 21,
     "metadata": {},
     "output_type": "execute_result"
    }
   ],
   "source": [
    "### BEGIN SOLUTION\n",
    "from sklearn.svm import SVR\n",
    "svr_reg = SVR()\n",
    "svr_model = svr_reg.fit(X_train, Y_train)\n",
    "svr_model\n",
    "\n",
    "train_prediction = svr_model.predict(X_train)\n",
    "test_prediction = svr_model.predict(X_test)\n",
    "\n",
    "train_rmse = np.sqrt(mean_squared_error(Y_train, train_prediction))\n",
    "test_rmse = np.sqrt(mean_squared_error(Y_test, test_prediction))\n",
    "train_rmse\n",
    "test_rmse\n",
    "\n",
    "### END SOLUTION\n",
    "train_rmses[\"SupportVectorMachine\"], test_rmses[\"SupportVectorMachine\"] = train_rmse, test_rmse"
   ]
  },
  {
   "cell_type": "markdown",
   "metadata": {},
   "source": [
    "## 6. Summary the above results into a table. (5 points)"
   ]
  },
  {
   "cell_type": "markdown",
   "metadata": {},
   "source": [
    "a. Put teh performance results into a DataFrame variable __perf."
   ]
  },
  {
   "cell_type": "code",
   "execution_count": 22,
   "metadata": {},
   "outputs": [
    {
     "data": {
      "text/html": [
       "<div>\n",
       "<style scoped>\n",
       "    .dataframe tbody tr th:only-of-type {\n",
       "        vertical-align: middle;\n",
       "    }\n",
       "\n",
       "    .dataframe tbody tr th {\n",
       "        vertical-align: top;\n",
       "    }\n",
       "\n",
       "    .dataframe thead th {\n",
       "        text-align: right;\n",
       "    }\n",
       "</style>\n",
       "<table border=\"1\" class=\"dataframe\">\n",
       "  <thead>\n",
       "    <tr style=\"text-align: right;\">\n",
       "      <th></th>\n",
       "      <th>model</th>\n",
       "      <th>Train.RMSE</th>\n",
       "      <th>Test.RMSE</th>\n",
       "    </tr>\n",
       "  </thead>\n",
       "  <tbody>\n",
       "    <tr>\n",
       "      <th>0</th>\n",
       "      <td>LinearRegression</td>\n",
       "      <td>67844.513999</td>\n",
       "      <td>69421.561460</td>\n",
       "    </tr>\n",
       "    <tr>\n",
       "      <th>1</th>\n",
       "      <td>DecisionTree</td>\n",
       "      <td>0.000000</td>\n",
       "      <td>106494.827412</td>\n",
       "    </tr>\n",
       "    <tr>\n",
       "      <th>2</th>\n",
       "      <td>RandomForest-Default</td>\n",
       "      <td>22301.582306</td>\n",
       "      <td>78086.829965</td>\n",
       "    </tr>\n",
       "    <tr>\n",
       "      <th>3</th>\n",
       "      <td>RandomForest-Custom</td>\n",
       "      <td>18636.160500</td>\n",
       "      <td>66652.876376</td>\n",
       "    </tr>\n",
       "    <tr>\n",
       "      <th>4</th>\n",
       "      <td>SupportVectorMachine</td>\n",
       "      <td>118194.214100</td>\n",
       "      <td>118382.118531</td>\n",
       "    </tr>\n",
       "  </tbody>\n",
       "</table>\n",
       "</div>"
      ],
      "text/plain": [
       "                  model     Train.RMSE      Test.RMSE\n",
       "0      LinearRegression   67844.513999   69421.561460\n",
       "1          DecisionTree       0.000000  106494.827412\n",
       "2  RandomForest-Default   22301.582306   78086.829965\n",
       "3   RandomForest-Custom   18636.160500   66652.876376\n",
       "4  SupportVectorMachine  118194.214100  118382.118531"
      ]
     },
     "execution_count": 22,
     "metadata": {},
     "output_type": "execute_result"
    }
   ],
   "source": [
    "perf = pd.DataFrame({\"model\": models})\n",
    "perf[\"Train.RMSE\"] = train_rmses.values()\n",
    "perf[\"Test.RMSE\"] = test_rmses.values()\n",
    "perf"
   ]
  },
  {
   "cell_type": "markdown",
   "metadata": {},
   "source": [
    "b. Among these models, which ones are susceptible to underfitting? "
   ]
  },
  {
   "cell_type": "markdown",
   "metadata": {
    "nbgrader": {
     "grade": true,
     "grade_id": "cell-079a0b79de55ba0f",
     "locked": false,
     "points": 2,
     "schema_version": 3,
     "solution": true,
     "task": false
    }
   },
   "source": [
    "I think SupportVectorMachine is susceptible to underfitting. "
   ]
  },
  {
   "cell_type": "markdown",
   "metadata": {},
   "source": [
    "c. Which models are susceptible to overfitting? "
   ]
  },
  {
   "cell_type": "markdown",
   "metadata": {
    "nbgrader": {
     "grade": true,
     "grade_id": "cell-14be5229334d343e",
     "locked": false,
     "points": 2,
     "schema_version": 3,
     "solution": true,
     "task": false
    }
   },
   "source": [
    "I think DecisionTree is susceptible to overfitting. "
   ]
  },
  {
   "cell_type": "markdown",
   "metadata": {},
   "source": [
    "d. The DecisionTreeRegression is the best model for this dataset because it leads to the zero RMSE numbers. Is this statement True of False? "
   ]
  },
  {
   "cell_type": "markdown",
   "metadata": {
    "nbgrader": {
     "grade": true,
     "grade_id": "cell-27270211becb5fa4",
     "locked": false,
     "points": 1,
     "schema_version": 3,
     "solution": true,
     "task": false
    }
   },
   "source": [
    "False, because the RMSE in test dataset in very large, and it's obvious that this is overfitting. "
   ]
  },
  {
   "cell_type": "markdown",
   "metadata": {},
   "source": [
    "## 7. Observations and Lessons (10 points)\n",
    "\n",
    "Write down three things you have observed or learned through this assignments."
   ]
  },
  {
   "cell_type": "markdown",
   "metadata": {},
   "source": [
    "Write your first observation/lesson below. (3 points)"
   ]
  },
  {
   "cell_type": "markdown",
   "metadata": {
    "nbgrader": {
     "grade": true,
     "grade_id": "cell-226b232e10487053",
     "locked": false,
     "points": 3,
     "schema_version": 3,
     "solution": true,
     "task": false
    }
   },
   "source": [
    "The median value of houses near the sea is obviously higher than the value far from sea. "
   ]
  },
  {
   "cell_type": "markdown",
   "metadata": {},
   "source": [
    "Write your second observation/lesson below. (3 points)"
   ]
  },
  {
   "cell_type": "markdown",
   "metadata": {
    "nbgrader": {
     "grade": true,
     "grade_id": "cell-e2a6357f6ef6a359",
     "locked": false,
     "points": 3,
     "schema_version": 3,
     "solution": true,
     "task": false
    }
   },
   "source": [
    "Stratified sampling is more accurate than normal random sampling. "
   ]
  },
  {
   "cell_type": "markdown",
   "metadata": {},
   "source": [
    "Write your third observation/lesson below. (4 points)"
   ]
  },
  {
   "cell_type": "markdown",
   "metadata": {
    "nbgrader": {
     "grade": true,
     "grade_id": "cell-b756a88fb032849f",
     "locked": false,
     "points": 4,
     "schema_version": 3,
     "solution": true,
     "task": false
    }
   },
   "source": [
    "In this assignment, the RandomForest is the best choice among all the methods. "
   ]
  }
 ],
 "metadata": {
  "celltoolbar": "Create Assignment",
  "kernelspec": {
   "display_name": "Python 3",
   "language": "python",
   "name": "python3"
  },
  "language_info": {
   "codemirror_mode": {
    "name": "ipython",
    "version": 3
   },
   "file_extension": ".py",
   "mimetype": "text/x-python",
   "name": "python",
   "nbconvert_exporter": "python",
   "pygments_lexer": "ipython3",
   "version": "3.7.5"
  }
 },
 "nbformat": 4,
 "nbformat_minor": 2
}
