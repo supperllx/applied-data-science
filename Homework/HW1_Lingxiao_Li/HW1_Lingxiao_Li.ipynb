{
 "cells": [
  {
   "cell_type": "markdown",
   "metadata": {},
   "source": [
    "# Problem 1 \n",
    "In this proplem, you are requested to implement least square solution: $$\\min_x \\|Ax-y\\|^2,$$ where $\\textbf{A}$ is the input features while $y$ is the output. It is worth noticing that the first column of $\\textbf{A}$ is a vector with all elements to be $1$, that is: $A=[1,B]$. The solution of least square is given by: $(A^TA)^{-1}A^Ty$"
   ]
  },
  {
   "cell_type": "code",
   "execution_count": 2,
   "metadata": {},
   "outputs": [],
   "source": [
    "import numpy as np\n",
    "import pandas as pd\n",
    "import time"
   ]
  },
  {
   "cell_type": "code",
   "execution_count": 3,
   "metadata": {},
   "outputs": [],
   "source": [
    "def my_least_squares(B, y):\n",
    "    start_time = time.time()\n",
    "    B = np.asmatrix(B)\n",
    "    A = np.insert(B, 0, 1, axis=1)\n",
    "    y = np.asmatrix(y)\n",
    "    #beta = np.dot(np.linalg.inv(np.dot(A.T, A)),A.T)\n",
    "    beta = (((A.T * A).I) * A.T)*y\n",
    "    #beta = np.dot(beta, y)\n",
    "    #print(A.shape, y.shape)\n",
    "    end_time = time.time()\n",
    "    print(\"Time usage in Linear reg: \", end_time-start_time)\n",
    "    return beta"
   ]
  },
  {
   "cell_type": "code",
   "execution_count": 4,
   "metadata": {},
   "outputs": [
    {
     "name": "stdout",
     "output_type": "stream",
     "text": [
      "Time usage in Linear reg:  0.011585712432861328\n",
      "[[ 0.58660254]\n",
      " [ 0.07599449]\n",
      " [ 0.06412193]\n",
      " [-0.01852613]\n",
      " [ 0.10746721]\n",
      " [ 0.12987661]\n",
      " [-0.07483704]\n",
      " [-0.18723742]\n",
      " [ 0.14083481]\n",
      " [-0.05235579]\n",
      " [-0.16468733]\n",
      " [-0.00620788]\n",
      " [ 0.1373255 ]\n",
      " [-0.24591243]\n",
      " [-0.0554224 ]\n",
      " [ 0.07222086]\n",
      " [ 0.0581393 ]\n",
      " [-0.09483842]\n",
      " [-0.12082309]\n",
      " [-0.01935497]\n",
      " [ 0.06489711]]\n"
     ]
    }
   ],
   "source": [
    "B=np.random.rand(100,20);\n",
    "y=np.random.rand(100,1);\n",
    "print(my_least_squares(B,y));"
   ]
  },
  {
   "cell_type": "markdown",
   "metadata": {},
   "source": [
    "# Problem 2 \n",
    "In this proplem, you are requested to implement least square solution by making use of gradient descent method: $$\\min_x \\|Ax-y\\|^2,$$ where $\\textbf{A}$ is the input features while $y$ is the output. What you should do is to first initialize (guess) $x_0$, then by making use of iterative updating: $x_{k+1}=x_{k}-\\lambda*\\Delta$, where $\\Delta$ is the gradient of the objective function with respective to $x_k$. $\\lambda$ is the so-called learning rate and should be set to be small to avoid gradient explosion. "
   ]
  },
  {
   "cell_type": "code",
   "execution_count": 5,
   "metadata": {},
   "outputs": [],
   "source": [
    "def my_gradient_descent(B, y):\n",
    "    start_time = time.time()\n",
    "    B = np.asmatrix(B)\n",
    "    A = np.insert(B, 0, 1, axis=1)\n",
    "    beta_size = A.shape[1]\n",
    "    y = np.asmatrix(y)\n",
    "    \n",
    "    beta = np.asmatrix(np.random.rand(beta_size, 1))\n",
    "    #print(beta)\n",
    "    alpha = 0.0001\n",
    "    K = 100000\n",
    "    for i in range(K):\n",
    "        beta = beta - alpha*((A.T * A)*beta - A.T*y)\n",
    "    end_time = time.time()\n",
    "    print(\"time usage in Gradient descent: \", end_time-start_time)\n",
    "    return beta"
   ]
  },
  {
   "cell_type": "code",
   "execution_count": 6,
   "metadata": {},
   "outputs": [
    {
     "name": "stdout",
     "output_type": "stream",
     "text": [
      "time usage in Gradient descent:  6.598049163818359\n",
      "[[0.94239683]\n",
      " [2.00217651]\n",
      " [0.04458847]\n",
      " [0.99129965]]\n"
     ]
    }
   ],
   "source": [
    "B = np.array([[1,2,3],[2,2,4],[1,1,1],[3,2,2],[2,1,2]])\n",
    "y = np.array([[7],[8],[3],[9],[8]])\n",
    "\n",
    "print(my_gradient_descent(B,y))"
   ]
  },
  {
   "cell_type": "code",
   "execution_count": 7,
   "metadata": {},
   "outputs": [
    {
     "name": "stdout",
     "output_type": "stream",
     "text": [
      "time usage in Gradient descent:  21.87859058380127\n",
      "[[ 7.18734956e-01]\n",
      " [ 4.79323082e-02]\n",
      " [-7.54545047e-02]\n",
      " [-7.66280344e-02]\n",
      " [ 4.77233496e-02]\n",
      " [-4.70830994e-02]\n",
      " [-4.63583483e-02]\n",
      " [ 6.83793129e-03]\n",
      " [ 4.09486224e-02]\n",
      " [-5.01704739e-02]\n",
      " [ 4.99746593e-02]\n",
      " [ 5.15817923e-04]\n",
      " [-1.20304992e-01]\n",
      " [ 4.93834640e-02]\n",
      " [ 1.27080141e-01]\n",
      " [ 7.79226896e-03]\n",
      " [-5.63025783e-02]\n",
      " [ 5.75939670e-02]\n",
      " [-3.72663318e-02]\n",
      " [ 5.84704336e-02]\n",
      " [-6.62853174e-02]\n",
      " [ 4.10304472e-03]\n",
      " [-1.90681642e-02]\n",
      " [-4.00108648e-02]\n",
      " [-3.13399354e-02]\n",
      " [-6.12773741e-02]\n",
      " [ 1.17200202e-02]\n",
      " [ 3.17234723e-03]\n",
      " [-2.98686637e-02]\n",
      " [ 9.36161801e-03]\n",
      " [ 9.23787883e-02]\n",
      " [ 4.25734806e-02]\n",
      " [ 1.31346169e-01]\n",
      " [-9.21327285e-02]\n",
      " [-5.60025889e-02]\n",
      " [-1.07514952e-01]\n",
      " [ 4.02331455e-02]\n",
      " [ 9.15738819e-02]\n",
      " [-3.03638477e-03]\n",
      " [ 1.06035185e-01]\n",
      " [-2.22075715e-02]\n",
      " [-1.88964406e-02]\n",
      " [ 6.51900076e-02]\n",
      " [-2.87324281e-02]\n",
      " [-1.02044495e-02]\n",
      " [ 6.33184328e-03]\n",
      " [-5.40633164e-02]\n",
      " [-5.19917801e-02]\n",
      " [-6.07154905e-02]\n",
      " [ 6.92667947e-03]\n",
      " [-4.64118954e-02]\n",
      " [ 5.14662924e-02]\n",
      " [ 9.94490495e-02]\n",
      " [-2.93500406e-02]\n",
      " [ 3.79144924e-03]\n",
      " [-8.80180646e-02]\n",
      " [-3.32191992e-02]\n",
      " [-3.78754641e-04]\n",
      " [-9.40440389e-03]\n",
      " [-6.09690207e-02]\n",
      " [ 4.08700034e-03]\n",
      " [-7.01404802e-02]\n",
      " [-5.19832877e-02]\n",
      " [-1.06359400e-01]\n",
      " [-1.07372441e-02]\n",
      " [-1.31519266e-01]\n",
      " [-9.62973635e-02]\n",
      " [ 4.13868223e-03]\n",
      " [-7.23291779e-03]\n",
      " [ 4.21485476e-02]\n",
      " [ 8.16026818e-03]\n",
      " [-1.66166403e-02]\n",
      " [ 7.55367644e-02]\n",
      " [ 2.10984996e-02]\n",
      " [-3.59809892e-02]\n",
      " [-1.35100548e-02]\n",
      " [ 1.12578597e-01]\n",
      " [ 8.75226699e-03]\n",
      " [-9.95787058e-02]\n",
      " [-9.04890513e-02]\n",
      " [ 3.19086470e-02]\n",
      " [ 9.31738167e-02]\n",
      " [-1.86200954e-03]\n",
      " [-1.73486403e-02]\n",
      " [ 5.69673649e-02]\n",
      " [ 2.53453405e-02]\n",
      " [-4.57066818e-02]\n",
      " [-3.11536201e-04]\n",
      " [ 3.93800556e-02]\n",
      " [ 6.39681161e-02]\n",
      " [-8.70382100e-05]\n",
      " [ 1.49253755e-02]\n",
      " [-6.86168509e-03]\n",
      " [-2.31593257e-02]\n",
      " [ 8.40133596e-02]\n",
      " [ 1.09451748e-01]\n",
      " [-7.18465835e-02]\n",
      " [-6.66181728e-02]\n",
      " [-8.57233912e-02]\n",
      " [-2.18876045e-02]\n",
      " [ 2.76392492e-02]]\n"
     ]
    }
   ],
   "source": [
    "B=np.random.rand(400,100);\n",
    "y=np.random.rand(400,1);\n",
    "print(my_gradient_descent(B,y));"
   ]
  },
  {
   "cell_type": "markdown",
   "metadata": {},
   "source": [
    "![Q3_question](q3_question.jpg)"
   ]
  },
  {
   "cell_type": "markdown",
   "metadata": {},
   "source": [
    "![Q3](q3.jpeg)"
   ]
  },
  {
   "cell_type": "code",
   "execution_count": null,
   "metadata": {},
   "outputs": [],
   "source": []
  }
 ],
 "metadata": {
  "kernelspec": {
   "display_name": "Python 3",
   "language": "python",
   "name": "python3"
  },
  "language_info": {
   "codemirror_mode": {
    "name": "ipython",
    "version": 3
   },
   "file_extension": ".py",
   "mimetype": "text/x-python",
   "name": "python",
   "nbconvert_exporter": "python",
   "pygments_lexer": "ipython3",
   "version": "3.7.3"
  }
 },
 "nbformat": 4,
 "nbformat_minor": 2
}
