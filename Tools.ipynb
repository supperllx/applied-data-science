{
 "cells": [
  {
   "cell_type": "code",
   "execution_count": 51,
   "metadata": {},
   "outputs": [],
   "source": [
    "%matplotlib inline\n",
    "import numpy as np\n",
    "import pandas as pd\n",
    "import time\n",
    "import matplotlib.pyplot as plt\n",
    "\n",
    "from sklearn.decomposition import PCA\n",
    "from sklearn.svm import SVC"
   ]
  },
  {
   "cell_type": "markdown",
   "metadata": {},
   "source": [
    "# Linear Reg:"
   ]
  },
  {
   "cell_type": "markdown",
   "metadata": {},
   "source": [
    "basic:"
   ]
  },
  {
   "cell_type": "code",
   "execution_count": 52,
   "metadata": {},
   "outputs": [],
   "source": [
    "def my_least_squares(B, y): #input B like [[1,2],[2,3],[3,4]], y like [[1],[2],[3]]\n",
    "    start_time = time.time()\n",
    "    B = np.asmatrix(B)\n",
    "    A = np.insert(B, 0, 1, axis=1)\n",
    "    y = np.asmatrix(y)\n",
    "    #beta = np.dot(np.linalg.inv(np.dot(A.T, A)),A.T)\n",
    "    beta = (((A.T * A).I) * A.T)*y\n",
    "    #beta = np.dot(beta, y)\n",
    "    #print(A.shape, y.shape)\n",
    "    end_time = time.time()\n",
    "    print(\"Time usage in Linear reg: \", end_time-start_time)\n",
    "    return beta #beta will be like [[0.1],[0.4],[0.2]]"
   ]
  },
  {
   "cell_type": "markdown",
   "metadata": {},
   "source": [
    "gradient_descent:"
   ]
  },
  {
   "cell_type": "code",
   "execution_count": 53,
   "metadata": {},
   "outputs": [],
   "source": [
    "def my_gradient_descent(B, y): #input B like [[1,2],[2,3],[3,4]], y like [[1],[2],[3]]\n",
    "    start_time = time.time()\n",
    "    B = np.asmatrix(B)\n",
    "    A = np.insert(B, 0, 1, axis=1)\n",
    "    beta_size = A.shape[1]\n",
    "    y = np.asmatrix(y)\n",
    "    \n",
    "    beta = np.asmatrix(np.random.rand(beta_size, 1))\n",
    "    #print(beta)\n",
    "    alpha = 0.0001\n",
    "    K = 100000\n",
    "    for i in range(K):\n",
    "        beta = beta - alpha*((A.T * A)*beta - A.T*y)\n",
    "    end_time = time.time()\n",
    "    print(\"time usage in Gradient descent: \", end_time-start_time)\n",
    "    return beta #beta will be like [[0.1],[0.4],[0.2]]"
   ]
  },
  {
   "cell_type": "code",
   "execution_count": 54,
   "metadata": {},
   "outputs": [
    {
     "name": "stdout",
     "output_type": "stream",
     "text": [
      "[[  3.75 110.     2.   412.5    7.5 ]\n",
      " [  3.8  100.     2.   380.     7.6 ]\n",
      " [  4.   115.     2.   460.     8.  ]\n",
      " [  3.5  100.     1.   350.     3.5 ]\n",
      " [  3.6  105.     1.   378.     3.6 ]\n",
      " [  3.2  105.     1.   336.     3.2 ]\n",
      " [  3.4  105.     1.   357.     3.4 ]]\n",
      "[[80]\n",
      " [85]\n",
      " [92]\n",
      " [88]\n",
      " [92]\n",
      " [82]\n",
      " [87]]\n",
      "Time usage in Linear reg:  0.0011250972747802734\n",
      "Time usage in Linear reg:  0.0006666183471679688\n",
      "[[-475.28571434]\n",
      " [ 159.71428573]\n",
      " [   6.2       ]\n",
      " [-173.71428572]\n",
      " [  -1.68571429]\n",
      " [  42.28571429]]\n",
      "[[82.94285717]]\n"
     ]
    }
   ],
   "source": [
    "#B = np.array([[1,2,3],[2,2,4],[1,1,1],[3,2,2],[2,1,2]])\n",
    "B = np.array([[3.75,110,2,3.75*110,3.75*2],[3.8,100,2,3.8*100,3.8*2],[4,115,2,4*115,4*2],[3.5,100,1,3.5*100,3.5*1],[3.6,105,1,3.6*105,3.6*1],[3.2,105,1,3.2*105,3.2*1],[3.4,105,1,3.4*105,3.4*1]])\n",
    "print(B)\n",
    "\n",
    "#y = np.array([[7],[8],[3],[9],[8]])\n",
    "y = np.array([[80],[85],[92],[88],[92],[82],[87]])\n",
    "print(y)\n",
    "beta = my_least_squares(B,y)\n",
    "\n",
    "print(my_least_squares(B,y))\n",
    "#print(my_gradient_descent(B,y))\n",
    "\n",
    "#test = np.matrix([1,4,110,1,4*110,4*1])\n",
    "test_m = np.matrix([1,3.8,110,2,3.8*110,3.8*2])\n",
    "print(test_m*beta)"
   ]
  },
  {
   "cell_type": "markdown",
   "metadata": {},
   "source": [
    "# SVM"
   ]
  },
  {
   "cell_type": "code",
   "execution_count": 64,
   "metadata": {},
   "outputs": [
    {
     "name": "stdout",
     "output_type": "stream",
     "text": [
      "[1 1 1 0 0 0 0]\n"
     ]
    },
    {
     "data": {
      "text/plain": [
       "SVC(C=10000000000.0, cache_size=200, class_weight=None, coef0=0.0,\n",
       "    decision_function_shape='ovr', degree=3, gamma='auto_deprecated',\n",
       "    kernel='linear', max_iter=-1, probability=False, random_state=None,\n",
       "    shrinking=True, tol=0.001, verbose=False)"
      ]
     },
     "execution_count": 64,
     "metadata": {},
     "output_type": "execute_result"
    },
    {
     "data": {
      "image/png": "[encoded data removed]",
      "text/plain": [
       "<Figure size 432x288 with 1 Axes>"
      ]
     },
     "metadata": {
      "needs_background": "light"
     },
     "output_type": "display_data"
    }
   ],
   "source": [
    "#X = np.array([[3,4],[2,2],[4,4],[1,4],[2,1],[4,3],[4,1]])\n",
    "#y = np.array([1,1,1,1,0,0,0])\n",
    "\n",
    "X = np.array([[3,4],[3,3],[4,4],[5,3],[4,2],[4,3],[5,4]])\n",
    "y = np.array([1,1,1,0,0,0,0])\n",
    "\n",
    "print(y)\n",
    "plt.scatter(X[:, 0], X[:, 1], c=y, s=50, cmap='autumn');\n",
    "\n",
    "model = SVC(kernel='linear', C=1E10)\n",
    "model.fit(X, y)"
   ]
  },
  {
   "cell_type": "code",
   "execution_count": 65,
   "metadata": {},
   "outputs": [],
   "source": [
    "def plot_svc_decision_function(model, ax=None, plot_support=True):\n",
    "    \"\"\"Plot the decision function for a 2D SVC\"\"\"\n",
    "    if ax is None:\n",
    "        ax = plt.gca()\n",
    "    xlim = ax.get_xlim()\n",
    "    ylim = ax.get_ylim()\n",
    "    \n",
    "    # create grid to evaluate model\n",
    "    x = np.linspace(xlim[0], xlim[1], 30)\n",
    "    y = np.linspace(ylim[0], ylim[1], 30)\n",
    "    Y, X = np.meshgrid(y, x)\n",
    "    xy = np.vstack([X.ravel(), Y.ravel()]).T\n",
    "    P = model.decision_function(xy).reshape(X.shape)\n",
    "    \n",
    "    # plot decision boundary and margins\n",
    "    ax.contour(X, Y, P, colors='k',\n",
    "               levels=[-1, 0, 1], alpha=0.5,\n",
    "               linestyles=['--', '-', '--'])\n",
    "    \n",
    "    # plot support vectors\n",
    "    if plot_support:\n",
    "        ax.scatter(model.support_vectors_[:, 0],\n",
    "                   model.support_vectors_[:, 1],\n",
    "                   s=300, linewidth=1, facecolors='none');\n",
    "    ax.set_xlim(xlim)\n",
    "    ax.set_ylim(ylim)"
   ]
  },
  {
   "cell_type": "code",
   "execution_count": 66,
   "metadata": {},
   "outputs": [
    {
     "name": "stdout",
     "output_type": "stream",
     "text": [
      "[[4. 3.]\n",
      " [5. 4.]\n",
      " [4. 4.]]\n"
     ]
    },
    {
     "data": {
      "image/png": "[encoded data removed]",
      "text/plain": [
       "<Figure size 432x288 with 1 Axes>"
      ]
     },
     "metadata": {
      "needs_background": "light"
     },
     "output_type": "display_data"
    }
   ],
   "source": [
    "plt.scatter(X[:, 0], X[:, 1], c=y, s=50, cmap='autumn')\n",
    "plot_svc_decision_function(model);\n",
    "print(model.support_vectors_)"
   ]
  },
  {
   "cell_type": "markdown",
   "metadata": {},
   "source": [
    "# PCA"
   ]
  },
  {
   "cell_type": "code",
   "execution_count": 70,
   "metadata": {},
   "outputs": [
    {
     "name": "stdout",
     "output_type": "stream",
     "text": [
      "[[ 1  2  3  6  7]\n",
      " [ 1  2 -1  7 -5]\n",
      " [ 2  2  1  4  3]\n",
      " [ 1  1  4 -9 -3]\n",
      " [-2 -6 -2 -2 -3]\n",
      " [-3 -1 -5 -6  1]]\n"
     ]
    },
    {
     "data": {
      "image/png": "[encoded data removed]",
      "text/plain": [
       "<Figure size 432x288 with 1 Axes>"
      ]
     },
     "metadata": {
      "needs_background": "light"
     },
     "output_type": "display_data"
    }
   ],
   "source": [
    "#X = np.array([[1,2,3],[1,2,-1],[-1,-3,-2],[-1,-1,0]])\n",
    "X = np.array([[1,2,3,6,7],[1,2,-1,7,-5],[2,2,1,4,3],[1,1,4,-9,-3],[-2,-6,-2,-2,-3],[-3,-1,-5,-6,1]])\n",
    "print(X)\n",
    "plt.scatter(X[:, 0], X[:, 1])\n",
    "plt.axis('equal');"
   ]
  },
  {
   "cell_type": "code",
   "execution_count": 71,
   "metadata": {},
   "outputs": [
    {
     "name": "stdout",
     "output_type": "stream",
     "text": [
      "[[ 0.17729431 -0.13042211  0.36237558]\n",
      " [ 0.25590594 -0.29037605  0.37275963]\n",
      " [ 0.14186973 -0.45527609  0.58090182]\n",
      " [ 0.88314562  0.43988866 -0.04710815]\n",
      " [ 0.32094496 -0.70561567 -0.62455431]]\n"
     ]
    }
   ],
   "source": [
    "pca = PCA(n_components=3)\n",
    "pca.fit(X)\n",
    "\n",
    "compt = (pca.components_).T\n",
    "print(compt)"
   ]
  },
  {
   "cell_type": "code",
   "execution_count": 72,
   "metadata": {},
   "outputs": [
    {
     "name": "stdout",
     "output_type": "stream",
     "text": [
      "[[ 8.66020385 -4.3769802  -1.80392879]\n",
      " [ 5.12453099  6.35140085  3.32000753]\n",
      " [ 5.5036876  -1.65416477 -0.0109233 ]\n",
      " [-7.9104663  -4.08405346  5.3563788 ]\n",
      " [-4.90288984  4.15072237 -2.15523334]\n",
      " [-6.4750663  -0.38692479 -4.7063009 ]]\n"
     ]
    }
   ],
   "source": [
    "ans = np.dot(X,compt)\n",
    "print(ans)"
   ]
  },
  {
   "cell_type": "code",
   "execution_count": null,
   "metadata": {},
   "outputs": [],
   "source": []
  }
 ],
 "metadata": {
  "kernelspec": {
   "display_name": "Python 3",
   "language": "python",
   "name": "python3"
  },
  "language_info": {
   "codemirror_mode": {
    "name": "ipython",
    "version": 3
   },
   "file_extension": ".py",
   "mimetype": "text/x-python",
   "name": "python",
   "nbconvert_exporter": "python",
   "pygments_lexer": "ipython3",
   "version": "3.7.4"
  }
 },
 "nbformat": 4,
 "nbformat_minor": 2
}
